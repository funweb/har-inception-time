{
 "cells": [
  {
   "cell_type": "markdown",
   "metadata": {
    "tags": []
   },
   "source": [
    "# 文件名字含义\n",
    "\n",
    "21_cairo_inception_2000_64_15_1.ipynb\n",
    "\n",
    "`[标号]_[dataset_name]_[method_name]_[data_length]_[batch_size]_[epochs]_[calculate_unit]`"
   ]
  },
  {
   "cell_type": "code",
   "execution_count": 1,
   "metadata": {},
   "outputs": [
    {
     "name": "stderr",
     "output_type": "stream",
     "text": [
      "/home/musk/anaconda3/envs/HARedit/lib/python3.6/site-packages/tensorflow/python/framework/dtypes.py:523: FutureWarning: Passing (type, 1) or '1type' as a synonym of type is deprecated; in a future version of numpy, it will be understood as (type, (1,)) / '(1,)type'.\n",
      "  _np_qint8 = np.dtype([(\"qint8\", np.int8, 1)])\n",
      "/home/musk/anaconda3/envs/HARedit/lib/python3.6/site-packages/tensorflow/python/framework/dtypes.py:524: FutureWarning: Passing (type, 1) or '1type' as a synonym of type is deprecated; in a future version of numpy, it will be understood as (type, (1,)) / '(1,)type'.\n",
      "  _np_quint8 = np.dtype([(\"quint8\", np.uint8, 1)])\n",
      "/home/musk/anaconda3/envs/HARedit/lib/python3.6/site-packages/tensorflow/python/framework/dtypes.py:525: FutureWarning: Passing (type, 1) or '1type' as a synonym of type is deprecated; in a future version of numpy, it will be understood as (type, (1,)) / '(1,)type'.\n",
      "  _np_qint16 = np.dtype([(\"qint16\", np.int16, 1)])\n",
      "/home/musk/anaconda3/envs/HARedit/lib/python3.6/site-packages/tensorflow/python/framework/dtypes.py:526: FutureWarning: Passing (type, 1) or '1type' as a synonym of type is deprecated; in a future version of numpy, it will be understood as (type, (1,)) / '(1,)type'.\n",
      "  _np_quint16 = np.dtype([(\"quint16\", np.uint16, 1)])\n",
      "/home/musk/anaconda3/envs/HARedit/lib/python3.6/site-packages/tensorflow/python/framework/dtypes.py:527: FutureWarning: Passing (type, 1) or '1type' as a synonym of type is deprecated; in a future version of numpy, it will be understood as (type, (1,)) / '(1,)type'.\n",
      "  _np_qint32 = np.dtype([(\"qint32\", np.int32, 1)])\n",
      "/home/musk/anaconda3/envs/HARedit/lib/python3.6/site-packages/tensorflow/python/framework/dtypes.py:532: FutureWarning: Passing (type, 1) or '1type' as a synonym of type is deprecated; in a future version of numpy, it will be understood as (type, (1,)) / '(1,)type'.\n",
      "  np_resource = np.dtype([(\"resource\", np.ubyte, 1)])\n"
     ]
    }
   ],
   "source": [
    "from tools import general\n",
    "import os\n",
    "from tools.configure.constants import DATASETS_CONSTANT, INCEPTION_CONSTANT, METHOD_PARAMETER_TEMPLATE, JUPYTER_TOKEN\n",
    "from HAR_main import train_val\n",
    "\n",
    "\n",
    "nb_name_file = general.ipy_nb_name(JUPYTER_TOKEN[\"token_lists\"])"
   ]
  },
  {
   "cell_type": "code",
   "execution_count": null,
   "metadata": {},
   "outputs": [],
   "source": []
  },
  {
   "cell_type": "code",
   "execution_count": 2,
   "metadata": {},
   "outputs": [
    {
     "data": {
      "text/plain": [
       "{'num': '21',\n",
       " 'dataset': 'cairo',\n",
       " 'model_name': 'inception',\n",
       " 'data_length': 2000,\n",
       " 'batch_size': 64,\n",
       " 'epochs': 15,\n",
       " 'calculation_unit': '1'}"
      ]
     },
     "metadata": {},
     "output_type": "display_data"
    }
   ],
   "source": [
    "theNotebook = nb_name_file.split('_')\n",
    "assert len(theNotebook) == 6 or len(theNotebook) == 7, 'The number of parameters should be 6 / 7'\n",
    "\n",
    "global title_param\n",
    "title_param = {\n",
    "    'num': theNotebook[0],\n",
    "    'dataset': theNotebook[1],\n",
    "    'model_name': theNotebook[2],\n",
    "    'data_length': int(theNotebook[3]),\n",
    "    'batch_size': int(theNotebook[4]),\n",
    "    'epochs': int(theNotebook[5]),\n",
    "    'calculation_unit': theNotebook[6] if len(theNotebook)==7 else '0',  # If not specified, the CPU is used to train the model\n",
    "}\n",
    "\n",
    "assert title_param['dataset'] in ['cairo', 'milan', 'kyoto7', 'kyoto8', 'kyoto11'], 'Please correct the dataset name！'\n",
    "assert title_param['model_name'] in ['WCNN','LSTM', 'inception'], 'The method is wrong. Please correct it！'\n",
    "assert title_param['data_length'] in [2000], 'The method is wrong. Please correct it！'\n",
    "assert title_param['batch_size'] in [64], 'The method is wrong. Please correct it！'\n",
    "assert title_param['epochs'] in [15, 30, 1500], 'The method is wrong. Please correct it！'\n",
    "assert title_param['calculation_unit'] in ['0', '1', '2'], 'Error in calculation unit selection, please correct！'\n",
    "\n",
    "display(title_param)"
   ]
  },
  {
   "cell_type": "code",
   "execution_count": null,
   "metadata": {},
   "outputs": [],
   "source": []
  },
  {
   "cell_type": "code",
   "execution_count": 3,
   "metadata": {},
   "outputs": [
    {
     "data": {
      "text/plain": [
       "{'datasets_dir': '../datasets/casas',\n",
       " 'archive_name': 'casas',\n",
       " 'ksplit': 3,\n",
       " 'dataset_name': 'cairo',\n",
       " 'data_lenght': 2000,\n",
       " 'distance_int': None,\n",
       " 'nb_epochs': 15,\n",
       " 'batch_size': 64,\n",
       " 'reTrain': True,\n",
       " 'calculation_unit': '1',\n",
       " 'model_name': 'inception',\n",
       " 'nb_iter_': 5,\n",
       " 'nb_filters': 32,\n",
       " 'use_residual': True,\n",
       " 'use_bottleneck': True,\n",
       " 'depth': 6,\n",
       " 'kernel_size': 41,\n",
       " 'optimizer': 'adam'}"
      ]
     },
     "execution_count": 3,
     "metadata": {},
     "output_type": "execute_result"
    }
   ],
   "source": [
    "# 数据参数\n",
    "\n",
    "# 模型公共参数\n",
    "nb_epochs = title_param['epochs']\n",
    "batch_size = title_param['batch_size']\n",
    "\n",
    "calculation_unit = title_param['calculation_unit']\n",
    "\n",
    "# 模型私有参数\n",
    "model_parameter_dict = INCEPTION_CONSTANT\n",
    "\n",
    "dict_config_cus = {\n",
    "    \"datasets_dir\": DATASETS_CONSTANT[\"base_dir\"],  # 这是公共数据集常量\n",
    "    \"archive_name\": DATASETS_CONSTANT[\"archive_name\"],\n",
    "    \"ksplit\": DATASETS_CONSTANT[\"ksplit\"],\n",
    "    \"dataset_name\": title_param['dataset'],\n",
    "    \"data_lenght\": title_param['data_length'],\n",
    "    \"distance_int\": None,\n",
    "\n",
    "    \"nb_epochs\": nb_epochs,\n",
    "    \"batch_size\": batch_size,\n",
    "\n",
    "    \"reTrain\": True,\n",
    "    \"calculation_unit\": calculation_unit,\n",
    "}\n",
    "\n",
    "general.Merge(dict_config_cus, model_parameter_dict)\n"
   ]
  },
  {
   "cell_type": "code",
   "execution_count": null,
   "metadata": {},
   "outputs": [],
   "source": []
  },
  {
   "cell_type": "code",
   "execution_count": 4,
   "metadata": {},
   "outputs": [],
   "source": [
    "import tensorflow as tf\n",
    "\n",
    "\n",
    "if dict_config_cus['calculation_unit'] is '0':\n",
    "    os.environ[\"CUDA_VISIBLE_DEVICES\"] = \"-1\"\n",
    "else:\n",
    "    if dict_config_cus['calculation_unit'] is '1':\n",
    "        # 使用第0块GPU\n",
    "        os.environ[\"CUDA_VISIBLE_DEVICES\"] = \"0\"\n",
    "\n",
    "    else:\n",
    "        os.environ[\"CUDA_VISIBLE_DEVICES\"] = \"1\"\n",
    "\n",
    "    config = tf.ConfigProto()\n",
    "    config.gpu_options.allow_growth = True\n",
    "    session = tf.Session(config=config)\n",
    "os.environ['TF_CPP_MIN_LOG_LEVEL'] = '3'"
   ]
  },
  {
   "cell_type": "code",
   "execution_count": null,
   "metadata": {},
   "outputs": [],
   "source": []
  },
  {
   "cell_type": "markdown",
   "metadata": {},
   "source": [
    "[origin](#origin)\n",
    "\n",
    "[C](#constrain)\n",
    "\n",
    "[CS_1](#constrain_1)\n",
    "\n",
    "[CS_2](#constrain_2)\n",
    "\n",
    "[CS_3](#constrain_3)\n",
    "\n",
    "[CS_4](#constrain_4)\n",
    "\n",
    "[CS_5](#constrain_5)\n"
   ]
  },
  {
   "cell_type": "markdown",
   "metadata": {},
   "source": [
    "# <a id='origin'>origin</a>\n"
   ]
  },
  {
   "cell_type": "code",
   "execution_count": null,
   "metadata": {},
   "outputs": [
    {
     "name": "stdout",
     "output_type": "stream",
     "text": [
      "🔂 iter: 0/4\n",
      "✅ data_x_path: ../datasets/casas/ende/cairo/9999/npy/3/cairo-train-x-0.npy\n"
     ]
    },
    {
     "name": "stderr",
     "output_type": "stream",
     "text": [
      "Using TensorFlow backend.\n"
     ]
    },
    {
     "name": "stdout",
     "output_type": "stream",
     "text": [
      "Train on 782 samples, validate on 392 samples\n",
      "Epoch 1/15\n",
      "782/782 [==============================] - 4s 6ms/step - loss: 1.4126 - acc: 0.5077 - val_loss: 1.5075 - val_acc: 0.6352\n",
      "Epoch 2/15\n",
      "782/782 [==============================] - 2s 2ms/step - loss: 0.9644 - acc: 0.6586 - val_loss: 1.8484 - val_acc: 0.6352\n",
      "Epoch 3/15\n",
      "782/782 [==============================] - 2s 2ms/step - loss: 0.9160 - acc: 0.6777 - val_loss: 1.8402 - val_acc: 0.5816\n",
      "\n",
      "Epoch 00003: saving model to ../datasets/casas/results/inception/casas/cairo/9999/0/_itr_0/saved-model-03-0.92-0.58.hdf5\n",
      "Epoch 4/15\n",
      "782/782 [==============================] - 2s 2ms/step - loss: 0.8824 - acc: 0.6777 - val_loss: 2.4226 - val_acc: 0.2934\n",
      "Epoch 5/15\n",
      "782/782 [==============================] - 2s 2ms/step - loss: 0.8702 - acc: 0.6918 - val_loss: 2.7774 - val_acc: 0.1352\n",
      "Epoch 6/15\n",
      "782/782 [==============================] - 2s 2ms/step - loss: 0.8332 - acc: 0.6790 - val_loss: 4.3192 - val_acc: 0.0867\n",
      "\n",
      "Epoch 00006: saving model to ../datasets/casas/results/inception/casas/cairo/9999/0/_itr_0/saved-model-06-0.83-0.09.hdf5\n",
      "Epoch 7/15\n",
      "782/782 [==============================] - 2s 2ms/step - loss: 0.8171 - acc: 0.6931 - val_loss: 3.3078 - val_acc: 0.1990\n",
      "Epoch 8/15\n",
      "782/782 [==============================] - 2s 2ms/step - loss: 0.8067 - acc: 0.7020 - val_loss: 7.1413 - val_acc: 0.1097\n",
      "Epoch 9/15\n",
      "782/782 [==============================] - 2s 2ms/step - loss: 0.7728 - acc: 0.7097 - val_loss: 6.3450 - val_acc: 0.1352\n",
      "\n",
      "Epoch 00009: saving model to ../datasets/casas/results/inception/casas/cairo/9999/0/_itr_0/saved-model-09-0.77-0.14.hdf5\n",
      "Epoch 10/15\n",
      "782/782 [==============================] - 2s 2ms/step - loss: 0.7490 - acc: 0.7136 - val_loss: 12.2323 - val_acc: 0.1173\n",
      "Epoch 11/15\n",
      "782/782 [==============================] - 2s 2ms/step - loss: 0.7552 - acc: 0.7072 - val_loss: 6.4834 - val_acc: 0.1837\n",
      "Epoch 12/15\n",
      "782/782 [==============================] - 2s 2ms/step - loss: 0.7714 - acc: 0.7084 - val_loss: 12.1614 - val_acc: 0.1199\n",
      "\n",
      "Epoch 00012: saving model to ../datasets/casas/results/inception/casas/cairo/9999/0/_itr_0/saved-model-12-0.77-0.12.hdf5\n",
      "Epoch 13/15\n",
      "782/782 [==============================] - 2s 2ms/step - loss: 0.7398 - acc: 0.7123 - val_loss: 13.9339 - val_acc: 0.0561\n",
      "Epoch 14/15\n",
      "782/782 [==============================] - 2s 2ms/step - loss: 0.7262 - acc: 0.7609 - val_loss: 15.0437 - val_acc: 0.0459\n",
      "Epoch 15/15\n",
      "782/782 [==============================] - 2s 2ms/step - loss: 0.6975 - acc: 0.7506 - val_loss: 13.1266 - val_acc: 0.1480\n",
      "\n",
      "Epoch 00015: saving model to ../datasets/casas/results/inception/casas/cairo/9999/0/_itr_0/saved-model-15-0.70-0.15.hdf5\n"
     ]
    },
    {
     "name": "stderr",
     "output_type": "stream",
     "text": [
      "/home/musk/anaconda3/envs/HARedit/lib/python3.6/site-packages/sklearn/metrics/_classification.py:1248: UndefinedMetricWarning: Precision is ill-defined and being set to 0.0 in labels with no predicted samples. Use `zero_division` parameter to control this behavior.\n",
      "  _warn_prf(average, modifier, msg_start, len(result))\n",
      "/home/musk/anaconda3/envs/HARedit/lib/python3.6/site-packages/sklearn/metrics/_classification.py:1248: UndefinedMetricWarning: Precision and F-score are ill-defined and being set to 0.0 in labels with no predicted samples. Use `zero_division` parameter to control this behavior.\n",
      "  _warn_prf(average, modifier, msg_start, len(result))\n",
      "/home/musk/anaconda3/envs/HARedit/lib/python3.6/site-packages/sklearn/metrics/_classification.py:1248: UndefinedMetricWarning: Precision and F-score are ill-defined and being set to 0.0 in labels with no predicted samples. Use `zero_division` parameter to control this behavior.\n",
      "  _warn_prf(average, modifier, msg_start, len(result))\n",
      "/home/musk/anaconda3/envs/HARedit/lib/python3.6/site-packages/sklearn/metrics/_classification.py:1248: UndefinedMetricWarning: Precision and F-score are ill-defined and being set to 0.0 in labels with no predicted samples. Use `zero_division` parameter to control this behavior.\n",
      "  _warn_prf(average, modifier, msg_start, len(result))\n"
     ]
    },
    {
     "name": "stdout",
     "output_type": "stream",
     "text": [
      "🔂 iter: 1/4\n",
      "✅ data_x_path: ../datasets/casas/ende/cairo/9999/npy/3/cairo-train-x-0.npy\n",
      "Train on 782 samples, validate on 392 samples\n",
      "Epoch 1/15\n",
      "782/782 [==============================] - 4s 5ms/step - loss: 1.1934 - acc: 0.5729 - val_loss: 1.3955 - val_acc: 0.6352\n",
      "Epoch 2/15\n",
      "782/782 [==============================] - 2s 2ms/step - loss: 0.9502 - acc: 0.6714 - val_loss: 1.9255 - val_acc: 0.6352\n",
      "Epoch 3/15\n",
      "782/782 [==============================] - 2s 2ms/step - loss: 0.9042 - acc: 0.6624 - val_loss: 1.0670 - val_acc: 0.6352\n",
      "\n",
      "Epoch 00003: saving model to ../datasets/casas/results/inception/casas/cairo/9999/0/_itr_1/saved-model-03-0.90-0.64.hdf5\n",
      "Epoch 4/15\n",
      "782/782 [==============================] - 2s 2ms/step - loss: 0.8658 - acc: 0.6880 - val_loss: 1.4396 - val_acc: 0.6327\n",
      "Epoch 5/15\n",
      "782/782 [==============================] - 2s 2ms/step - loss: 0.8558 - acc: 0.6867 - val_loss: 1.1297 - val_acc: 0.6352\n",
      "Epoch 6/15\n",
      "782/782 [==============================] - 2s 2ms/step - loss: 0.8387 - acc: 0.6957 - val_loss: 1.4128 - val_acc: 0.6327\n",
      "\n",
      "Epoch 00006: saving model to ../datasets/casas/results/inception/casas/cairo/9999/0/_itr_1/saved-model-06-0.84-0.63.hdf5\n",
      "Epoch 7/15\n",
      "782/782 [==============================] - 2s 2ms/step - loss: 0.8014 - acc: 0.7020 - val_loss: 2.2309 - val_acc: 0.2474\n",
      "Epoch 8/15\n",
      "782/782 [==============================] - 2s 2ms/step - loss: 0.8109 - acc: 0.6969 - val_loss: 2.7842 - val_acc: 0.1556\n",
      "Epoch 9/15\n",
      "782/782 [==============================] - 2s 2ms/step - loss: 0.7744 - acc: 0.6918 - val_loss: 10.3224 - val_acc: 0.0714\n",
      "\n",
      "Epoch 00009: saving model to ../datasets/casas/results/inception/casas/cairo/9999/0/_itr_1/saved-model-09-0.77-0.07.hdf5\n",
      "Epoch 10/15\n",
      "782/782 [==============================] - 2s 2ms/step - loss: 0.7368 - acc: 0.6982 - val_loss: 14.8599 - val_acc: 0.0459\n",
      "Epoch 11/15\n",
      "782/782 [==============================] - 2s 2ms/step - loss: 0.7380 - acc: 0.7391 - val_loss: 15.3780 - val_acc: 0.0459\n",
      "Epoch 12/15\n",
      "782/782 [==============================] - 2s 2ms/step - loss: 0.7192 - acc: 0.7187 - val_loss: 14.3352 - val_acc: 0.0714\n",
      "\n",
      "Epoch 00012: saving model to ../datasets/casas/results/inception/casas/cairo/9999/0/_itr_1/saved-model-12-0.72-0.07.hdf5\n",
      "Epoch 13/15\n",
      "782/782 [==============================] - 2s 2ms/step - loss: 0.7238 - acc: 0.7455 - val_loss: 15.3749 - val_acc: 0.0459\n",
      "Epoch 14/15\n",
      "782/782 [==============================] - 2s 2ms/step - loss: 0.6788 - acc: 0.7558 - val_loss: 15.3553 - val_acc: 0.0459\n",
      "Epoch 15/15\n",
      "782/782 [==============================] - 2s 2ms/step - loss: 0.7095 - acc: 0.7583 - val_loss: 13.3151 - val_acc: 0.1582\n",
      "\n",
      "Epoch 00015: saving model to ../datasets/casas/results/inception/casas/cairo/9999/0/_itr_1/saved-model-15-0.71-0.16.hdf5\n"
     ]
    },
    {
     "name": "stderr",
     "output_type": "stream",
     "text": [
      "/home/musk/anaconda3/envs/HARedit/lib/python3.6/site-packages/sklearn/metrics/_classification.py:1248: UndefinedMetricWarning: Precision is ill-defined and being set to 0.0 in labels with no predicted samples. Use `zero_division` parameter to control this behavior.\n",
      "  _warn_prf(average, modifier, msg_start, len(result))\n",
      "/home/musk/anaconda3/envs/HARedit/lib/python3.6/site-packages/sklearn/metrics/_classification.py:1248: UndefinedMetricWarning: Precision and F-score are ill-defined and being set to 0.0 in labels with no predicted samples. Use `zero_division` parameter to control this behavior.\n",
      "  _warn_prf(average, modifier, msg_start, len(result))\n",
      "/home/musk/anaconda3/envs/HARedit/lib/python3.6/site-packages/sklearn/metrics/_classification.py:1248: UndefinedMetricWarning: Precision and F-score are ill-defined and being set to 0.0 in labels with no predicted samples. Use `zero_division` parameter to control this behavior.\n",
      "  _warn_prf(average, modifier, msg_start, len(result))\n",
      "/home/musk/anaconda3/envs/HARedit/lib/python3.6/site-packages/sklearn/metrics/_classification.py:1248: UndefinedMetricWarning: Precision and F-score are ill-defined and being set to 0.0 in labels with no predicted samples. Use `zero_division` parameter to control this behavior.\n",
      "  _warn_prf(average, modifier, msg_start, len(result))\n"
     ]
    },
    {
     "name": "stdout",
     "output_type": "stream",
     "text": [
      "🔂 iter: 2/4\n",
      "✅ data_x_path: ../datasets/casas/ende/cairo/9999/npy/3/cairo-train-x-0.npy\n",
      "Train on 782 samples, validate on 392 samples\n",
      "Epoch 1/15\n",
      "782/782 [==============================] - 4s 5ms/step - loss: 1.2222 - acc: 0.5934 - val_loss: 1.1286 - val_acc: 0.6684\n",
      "Epoch 2/15\n",
      "782/782 [==============================] - 2s 2ms/step - loss: 0.9811 - acc: 0.6598 - val_loss: 1.4980 - val_acc: 0.6352\n",
      "Epoch 3/15\n",
      "782/782 [==============================] - 2s 2ms/step - loss: 0.9193 - acc: 0.6803 - val_loss: 2.0264 - val_acc: 0.6352\n",
      "\n",
      "Epoch 00003: saving model to ../datasets/casas/results/inception/casas/cairo/9999/0/_itr_2/saved-model-03-0.92-0.64.hdf5\n",
      "Epoch 4/15\n",
      "782/782 [==============================] - 2s 2ms/step - loss: 0.8915 - acc: 0.6777 - val_loss: 1.0721 - val_acc: 0.6378\n",
      "Epoch 5/15\n",
      "782/782 [==============================] - 2s 2ms/step - loss: 0.8684 - acc: 0.6918 - val_loss: 1.7653 - val_acc: 0.6352\n",
      "Epoch 6/15\n",
      "782/782 [==============================] - 2s 2ms/step - loss: 0.8500 - acc: 0.6880 - val_loss: 1.7733 - val_acc: 0.6199\n",
      "\n",
      "Epoch 00006: saving model to ../datasets/casas/results/inception/casas/cairo/9999/0/_itr_2/saved-model-06-0.85-0.62.hdf5\n",
      "Epoch 7/15\n",
      "782/782 [==============================] - 2s 2ms/step - loss: 0.8242 - acc: 0.7008 - val_loss: 1.2338 - val_acc: 0.5332\n",
      "Epoch 8/15\n",
      "782/782 [==============================] - 2s 2ms/step - loss: 0.8010 - acc: 0.7084 - val_loss: 2.7015 - val_acc: 0.3827\n",
      "Epoch 9/15\n",
      "782/782 [==============================] - 2s 2ms/step - loss: 0.7908 - acc: 0.7033 - val_loss: 5.6353 - val_acc: 0.2092\n",
      "\n",
      "Epoch 00009: saving model to ../datasets/casas/results/inception/casas/cairo/9999/0/_itr_2/saved-model-09-0.79-0.21.hdf5\n",
      "Epoch 10/15\n",
      "782/782 [==============================] - 2s 2ms/step - loss: 0.7895 - acc: 0.6918 - val_loss: 11.7894 - val_acc: 0.0765\n",
      "Epoch 11/15\n",
      "782/782 [==============================] - 2s 2ms/step - loss: 0.7672 - acc: 0.7008 - val_loss: 13.7729 - val_acc: 0.0918\n",
      "Epoch 12/15\n",
      "782/782 [==============================] - 2s 2ms/step - loss: 0.7243 - acc: 0.7212 - val_loss: 13.6124 - val_acc: 0.0995\n",
      "\n",
      "Epoch 00012: saving model to ../datasets/casas/results/inception/casas/cairo/9999/0/_itr_2/saved-model-12-0.72-0.10.hdf5\n",
      "Epoch 13/15\n",
      "782/782 [==============================] - 2s 2ms/step - loss: 0.7396 - acc: 0.7263 - val_loss: 13.7982 - val_acc: 0.1020\n",
      "Epoch 14/15\n",
      "782/782 [==============================] - 2s 2ms/step - loss: 0.7114 - acc: 0.7136 - val_loss: 9.9468 - val_acc: 0.1276\n",
      "Epoch 15/15\n",
      "782/782 [==============================] - 2s 2ms/step - loss: 0.7014 - acc: 0.7353 - val_loss: 13.7323 - val_acc: 0.1148\n",
      "\n",
      "Epoch 00015: saving model to ../datasets/casas/results/inception/casas/cairo/9999/0/_itr_2/saved-model-15-0.70-0.11.hdf5\n"
     ]
    },
    {
     "name": "stderr",
     "output_type": "stream",
     "text": [
      "/home/musk/anaconda3/envs/HARedit/lib/python3.6/site-packages/sklearn/metrics/_classification.py:1248: UndefinedMetricWarning: Precision is ill-defined and being set to 0.0 in labels with no predicted samples. Use `zero_division` parameter to control this behavior.\n",
      "  _warn_prf(average, modifier, msg_start, len(result))\n",
      "/home/musk/anaconda3/envs/HARedit/lib/python3.6/site-packages/sklearn/metrics/_classification.py:1248: UndefinedMetricWarning: Precision and F-score are ill-defined and being set to 0.0 in labels with no predicted samples. Use `zero_division` parameter to control this behavior.\n",
      "  _warn_prf(average, modifier, msg_start, len(result))\n",
      "/home/musk/anaconda3/envs/HARedit/lib/python3.6/site-packages/sklearn/metrics/_classification.py:1248: UndefinedMetricWarning: Precision and F-score are ill-defined and being set to 0.0 in labels with no predicted samples. Use `zero_division` parameter to control this behavior.\n",
      "  _warn_prf(average, modifier, msg_start, len(result))\n",
      "/home/musk/anaconda3/envs/HARedit/lib/python3.6/site-packages/sklearn/metrics/_classification.py:1248: UndefinedMetricWarning: Precision and F-score are ill-defined and being set to 0.0 in labels with no predicted samples. Use `zero_division` parameter to control this behavior.\n",
      "  _warn_prf(average, modifier, msg_start, len(result))\n"
     ]
    },
    {
     "name": "stdout",
     "output_type": "stream",
     "text": [
      "🔂 iter: 3/4\n",
      "✅ data_x_path: ../datasets/casas/ende/cairo/9999/npy/3/cairo-train-x-0.npy\n",
      "Train on 782 samples, validate on 392 samples\n",
      "Epoch 1/15\n",
      "782/782 [==============================] - 4s 5ms/step - loss: 1.3508 - acc: 0.5090 - val_loss: 1.1071 - val_acc: 0.6811\n",
      "Epoch 2/15\n",
      "782/782 [==============================] - 2s 2ms/step - loss: 0.9699 - acc: 0.6547 - val_loss: 1.5270 - val_acc: 0.6352\n",
      "Epoch 3/15\n",
      "782/782 [==============================] - 2s 2ms/step - loss: 0.9163 - acc: 0.6777 - val_loss: 1.5839 - val_acc: 0.6352\n",
      "\n",
      "Epoch 00003: saving model to ../datasets/casas/results/inception/casas/cairo/9999/0/_itr_3/saved-model-03-0.92-0.64.hdf5\n",
      "Epoch 4/15\n",
      "782/782 [==============================] - 2s 2ms/step - loss: 0.8797 - acc: 0.6841 - val_loss: 1.1849 - val_acc: 0.6327\n",
      "Epoch 5/15\n",
      "782/782 [==============================] - 2s 2ms/step - loss: 0.8516 - acc: 0.6880 - val_loss: 1.1172 - val_acc: 0.6327\n",
      "Epoch 6/15\n",
      "782/782 [==============================] - 2s 2ms/step - loss: 0.8296 - acc: 0.6944 - val_loss: 1.6142 - val_acc: 0.3903\n",
      "\n",
      "Epoch 00006: saving model to ../datasets/casas/results/inception/casas/cairo/9999/0/_itr_3/saved-model-06-0.83-0.39.hdf5\n",
      "Epoch 7/15\n",
      "782/782 [==============================] - 2s 2ms/step - loss: 0.7930 - acc: 0.7033 - val_loss: 4.6392 - val_acc: 0.1250\n",
      "Epoch 8/15\n",
      "782/782 [==============================] - 2s 2ms/step - loss: 0.7766 - acc: 0.6931 - val_loss: 8.7432 - val_acc: 0.0459\n",
      "Epoch 9/15\n",
      "782/782 [==============================] - 2s 2ms/step - loss: 0.7540 - acc: 0.7097 - val_loss: 12.4747 - val_acc: 0.1097\n",
      "\n",
      "Epoch 00009: saving model to ../datasets/casas/results/inception/casas/cairo/9999/0/_itr_3/saved-model-09-0.75-0.11.hdf5\n",
      "Epoch 10/15\n",
      "782/782 [==============================] - 2s 2ms/step - loss: 0.7369 - acc: 0.7276 - val_loss: 15.2579 - val_acc: 0.0459\n",
      "Epoch 11/15\n",
      "782/782 [==============================] - 2s 2ms/step - loss: 0.7033 - acc: 0.7430 - val_loss: 14.3643 - val_acc: 0.0587\n",
      "Epoch 12/15\n",
      "782/782 [==============================] - 2s 2ms/step - loss: 0.7239 - acc: 0.7442 - val_loss: 14.3080 - val_acc: 0.0459\n",
      "\n",
      "Epoch 00012: saving model to ../datasets/casas/results/inception/casas/cairo/9999/0/_itr_3/saved-model-12-0.72-0.05.hdf5\n",
      "Epoch 13/15\n",
      "782/782 [==============================] - 2s 2ms/step - loss: 0.6702 - acc: 0.7685 - val_loss: 13.4102 - val_acc: 0.0969\n",
      "Epoch 14/15\n",
      "782/782 [==============================] - 2s 2ms/step - loss: 0.6378 - acc: 0.7698 - val_loss: 11.5106 - val_acc: 0.1531\n",
      "Epoch 15/15\n",
      "782/782 [==============================] - 2s 2ms/step - loss: 0.6265 - acc: 0.7775 - val_loss: 12.9991 - val_acc: 0.1148\n",
      "\n",
      "Epoch 00015: saving model to ../datasets/casas/results/inception/casas/cairo/9999/0/_itr_3/saved-model-15-0.63-0.11.hdf5\n"
     ]
    },
    {
     "name": "stderr",
     "output_type": "stream",
     "text": [
      "/home/musk/anaconda3/envs/HARedit/lib/python3.6/site-packages/sklearn/metrics/_classification.py:1248: UndefinedMetricWarning: Precision is ill-defined and being set to 0.0 in labels with no predicted samples. Use `zero_division` parameter to control this behavior.\n",
      "  _warn_prf(average, modifier, msg_start, len(result))\n",
      "/home/musk/anaconda3/envs/HARedit/lib/python3.6/site-packages/sklearn/metrics/_classification.py:1248: UndefinedMetricWarning: Precision and F-score are ill-defined and being set to 0.0 in labels with no predicted samples. Use `zero_division` parameter to control this behavior.\n",
      "  _warn_prf(average, modifier, msg_start, len(result))\n",
      "/home/musk/anaconda3/envs/HARedit/lib/python3.6/site-packages/sklearn/metrics/_classification.py:1248: UndefinedMetricWarning: Precision and F-score are ill-defined and being set to 0.0 in labels with no predicted samples. Use `zero_division` parameter to control this behavior.\n",
      "  _warn_prf(average, modifier, msg_start, len(result))\n",
      "/home/musk/anaconda3/envs/HARedit/lib/python3.6/site-packages/sklearn/metrics/_classification.py:1248: UndefinedMetricWarning: Precision and F-score are ill-defined and being set to 0.0 in labels with no predicted samples. Use `zero_division` parameter to control this behavior.\n",
      "  _warn_prf(average, modifier, msg_start, len(result))\n"
     ]
    },
    {
     "name": "stdout",
     "output_type": "stream",
     "text": [
      "🔂 iter: 4/4\n",
      "✅ data_x_path: ../datasets/casas/ende/cairo/9999/npy/3/cairo-train-x-0.npy\n",
      "Train on 782 samples, validate on 392 samples\n",
      "Epoch 1/15\n",
      "782/782 [==============================] - 4s 5ms/step - loss: 1.1176 - acc: 0.6330 - val_loss: 1.0391 - val_acc: 0.6913\n",
      "Epoch 2/15\n",
      "782/782 [==============================] - 2s 2ms/step - loss: 0.9213 - acc: 0.6803 - val_loss: 0.9758 - val_acc: 0.6633\n",
      "Epoch 3/15\n",
      "782/782 [==============================] - 2s 2ms/step - loss: 0.8777 - acc: 0.6841 - val_loss: 2.3427 - val_acc: 0.4898\n",
      "\n",
      "Epoch 00003: saving model to ../datasets/casas/results/inception/casas/cairo/9999/0/_itr_4/saved-model-03-0.88-0.49.hdf5\n",
      "Epoch 4/15\n",
      "782/782 [==============================] - 2s 2ms/step - loss: 0.8452 - acc: 0.6969 - val_loss: 2.9331 - val_acc: 0.2704\n",
      "Epoch 5/15\n",
      "782/782 [==============================] - 2s 2ms/step - loss: 0.8175 - acc: 0.6957 - val_loss: 4.1727 - val_acc: 0.1276\n",
      "Epoch 6/15\n",
      "782/782 [==============================] - 2s 2ms/step - loss: 0.8031 - acc: 0.6880 - val_loss: 7.0449 - val_acc: 0.0485\n",
      "\n",
      "Epoch 00006: saving model to ../datasets/casas/results/inception/casas/cairo/9999/0/_itr_4/saved-model-06-0.80-0.05.hdf5\n",
      "Epoch 7/15\n",
      "782/782 [==============================] - 2s 2ms/step - loss: 0.7722 - acc: 0.6995 - val_loss: 6.8858 - val_acc: 0.1097\n",
      "Epoch 8/15\n",
      "782/782 [==============================] - 2s 2ms/step - loss: 0.7385 - acc: 0.7110 - val_loss: 5.6506 - val_acc: 0.1607\n",
      "Epoch 9/15\n",
      "782/782 [==============================] - 2s 2ms/step - loss: 0.7013 - acc: 0.7315 - val_loss: 6.9653 - val_acc: 0.0663\n",
      "\n",
      "Epoch 00009: saving model to ../datasets/casas/results/inception/casas/cairo/9999/0/_itr_4/saved-model-09-0.70-0.07.hdf5\n",
      "Epoch 10/15\n",
      "782/782 [==============================] - 2s 2ms/step - loss: 0.6969 - acc: 0.7225 - val_loss: 11.8852 - val_acc: 0.1531\n",
      "Epoch 11/15\n",
      "782/782 [==============================] - 2s 2ms/step - loss: 0.6622 - acc: 0.7609 - val_loss: 13.3476 - val_acc: 0.1046\n",
      "Epoch 12/15\n",
      "782/782 [==============================] - 2s 2ms/step - loss: 0.6423 - acc: 0.7442 - val_loss: 12.9481 - val_acc: 0.1276\n",
      "\n",
      "Epoch 00012: saving model to ../datasets/casas/results/inception/casas/cairo/9999/0/_itr_4/saved-model-12-0.64-0.13.hdf5\n",
      "Epoch 13/15\n",
      "782/782 [==============================] - 2s 2ms/step - loss: 0.6449 - acc: 0.7634 - val_loss: 13.1286 - val_acc: 0.1403\n",
      "Epoch 14/15\n",
      "782/782 [==============================] - 2s 2ms/step - loss: 0.6132 - acc: 0.7928 - val_loss: 13.4637 - val_acc: 0.1378\n",
      "Epoch 15/15\n",
      "782/782 [==============================] - 2s 2ms/step - loss: 0.6357 - acc: 0.7673 - val_loss: 7.4941 - val_acc: 0.2219\n",
      "\n",
      "Epoch 00015: saving model to ../datasets/casas/results/inception/casas/cairo/9999/0/_itr_4/saved-model-15-0.64-0.22.hdf5\n"
     ]
    },
    {
     "name": "stderr",
     "output_type": "stream",
     "text": [
      "/home/musk/anaconda3/envs/HARedit/lib/python3.6/site-packages/sklearn/metrics/_classification.py:1248: UndefinedMetricWarning: Precision is ill-defined and being set to 0.0 in labels with no predicted samples. Use `zero_division` parameter to control this behavior.\n",
      "  _warn_prf(average, modifier, msg_start, len(result))\n",
      "/home/musk/anaconda3/envs/HARedit/lib/python3.6/site-packages/sklearn/metrics/_classification.py:1248: UndefinedMetricWarning: Precision and F-score are ill-defined and being set to 0.0 in labels with no predicted samples. Use `zero_division` parameter to control this behavior.\n",
      "  _warn_prf(average, modifier, msg_start, len(result))\n",
      "/home/musk/anaconda3/envs/HARedit/lib/python3.6/site-packages/sklearn/metrics/_classification.py:1248: UndefinedMetricWarning: Precision and F-score are ill-defined and being set to 0.0 in labels with no predicted samples. Use `zero_division` parameter to control this behavior.\n",
      "  _warn_prf(average, modifier, msg_start, len(result))\n",
      "/home/musk/anaconda3/envs/HARedit/lib/python3.6/site-packages/sklearn/metrics/_classification.py:1248: UndefinedMetricWarning: Precision and F-score are ill-defined and being set to 0.0 in labels with no predicted samples. Use `zero_division` parameter to control this behavior.\n",
      "  _warn_prf(average, modifier, msg_start, len(result))\n",
      "/home/musk/anaconda3/envs/HARedit/lib/python3.6/site-packages/sklearn/metrics/_classification.py:1248: UndefinedMetricWarning: Precision is ill-defined and being set to 0.0 in labels with no predicted samples. Use `zero_division` parameter to control this behavior.\n",
      "  _warn_prf(average, modifier, msg_start, len(result))\n",
      "/home/musk/anaconda3/envs/HARedit/lib/python3.6/site-packages/sklearn/metrics/_classification.py:1248: UndefinedMetricWarning: Precision and F-score are ill-defined and being set to 0.0 in labels with no predicted samples. Use `zero_division` parameter to control this behavior.\n",
      "  _warn_prf(average, modifier, msg_start, len(result))\n",
      "/home/musk/anaconda3/envs/HARedit/lib/python3.6/site-packages/sklearn/metrics/_classification.py:1248: UndefinedMetricWarning: Precision and F-score are ill-defined and being set to 0.0 in labels with no predicted samples. Use `zero_division` parameter to control this behavior.\n",
      "  _warn_prf(average, modifier, msg_start, len(result))\n",
      "/home/musk/anaconda3/envs/HARedit/lib/python3.6/site-packages/sklearn/metrics/_classification.py:1248: UndefinedMetricWarning: Precision and F-score are ill-defined and being set to 0.0 in labels with no predicted samples. Use `zero_division` parameter to control this behavior.\n",
      "  _warn_prf(average, modifier, msg_start, len(result))\n"
     ]
    },
    {
     "name": "stdout",
     "output_type": "stream",
     "text": [
      "\u001b[34m\u001b[1mnne: dataname: cairo, distant: 9999, ksplit: 0\u001b[0m\n",
      "✅ data_x_path: ../datasets/casas/ende/cairo/9999/npy/3/cairo-train-x-0.npy\n",
      "📑 \u001b[31mdf_metrics_temp\n",
      "\u001b[0m:    Unnamed: 0  precision  accuracy    recall        f1  duration\n",
      "0           0    0.09256  0.117347  0.158921  0.041195  0.006155\n",
      "\n",
      "\n",
      "🔂 iter: 0/4\n",
      "✅ data_x_path: ../datasets/casas/ende/cairo/9999/npy/3/cairo-train-x-1.npy\n",
      "Train on 783 samples, validate on 391 samples\n",
      "Epoch 1/15\n",
      "783/783 [==============================] - 4s 5ms/step - loss: 1.1862 - acc: 0.6194 - val_loss: 2.2942 - val_acc: 0.6368\n",
      "Epoch 2/15\n",
      "783/783 [==============================] - 2s 2ms/step - loss: 0.9372 - acc: 0.6769 - val_loss: 2.1622 - val_acc: 0.6368\n",
      "Epoch 3/15\n",
      "783/783 [==============================] - 2s 2ms/step - loss: 0.8931 - acc: 0.6858 - val_loss: 1.6535 - val_acc: 0.6368\n",
      "\n",
      "Epoch 00003: saving model to ../datasets/casas/results/inception/casas/cairo/9999/1/_itr_0/saved-model-03-0.89-0.64.hdf5\n",
      "Epoch 4/15\n",
      "783/783 [==============================] - 2s 2ms/step - loss: 0.8814 - acc: 0.6794 - val_loss: 1.3878 - val_acc: 0.4731\n",
      "Epoch 5/15\n",
      "783/783 [==============================] - 2s 2ms/step - loss: 0.8431 - acc: 0.6769 - val_loss: 1.6951 - val_acc: 0.4194\n",
      "Epoch 6/15\n",
      "783/783 [==============================] - 2s 2ms/step - loss: 0.8272 - acc: 0.6948 - val_loss: 4.4458 - val_acc: 0.0895\n",
      "\n",
      "Epoch 00006: saving model to ../datasets/casas/results/inception/casas/cairo/9999/1/_itr_0/saved-model-06-0.83-0.09.hdf5\n",
      "Epoch 7/15\n",
      "783/783 [==============================] - 2s 2ms/step - loss: 0.8253 - acc: 0.6884 - val_loss: 1.7855 - val_acc: 0.3478\n",
      "Epoch 8/15\n",
      "783/783 [==============================] - 2s 2ms/step - loss: 0.8030 - acc: 0.6833 - val_loss: 7.3366 - val_acc: 0.1867\n",
      "Epoch 9/15\n",
      "783/783 [==============================] - 2s 2ms/step - loss: 0.7676 - acc: 0.7024 - val_loss: 11.2444 - val_acc: 0.1304\n",
      "\n",
      "Epoch 00009: saving model to ../datasets/casas/results/inception/casas/cairo/9999/1/_itr_0/saved-model-09-0.77-0.13.hdf5\n",
      "Epoch 10/15\n",
      "783/783 [==============================] - 2s 2ms/step - loss: 0.7475 - acc: 0.6999 - val_loss: 14.9641 - val_acc: 0.0486\n",
      "Epoch 11/15\n",
      "783/783 [==============================] - 2s 2ms/step - loss: 0.7351 - acc: 0.7152 - val_loss: 8.4479 - val_acc: 0.0486\n",
      "Epoch 12/15\n",
      "783/783 [==============================] - 2s 2ms/step - loss: 0.7259 - acc: 0.7203 - val_loss: 9.9342 - val_acc: 0.0716\n",
      "\n",
      "Epoch 00012: saving model to ../datasets/casas/results/inception/casas/cairo/9999/1/_itr_0/saved-model-12-0.73-0.07.hdf5\n",
      "Epoch 13/15\n",
      "783/783 [==============================] - 2s 2ms/step - loss: 0.7075 - acc: 0.7522 - val_loss: 8.3731 - val_acc: 0.1023\n",
      "Epoch 14/15\n",
      "783/783 [==============================] - 2s 2ms/step - loss: 0.6819 - acc: 0.7407 - val_loss: 10.4760 - val_acc: 0.1535\n",
      "Epoch 15/15\n",
      "783/783 [==============================] - 2s 2ms/step - loss: 0.7071 - acc: 0.7382 - val_loss: 11.9796 - val_acc: 0.1969\n",
      "\n",
      "Epoch 00015: saving model to ../datasets/casas/results/inception/casas/cairo/9999/1/_itr_0/saved-model-15-0.71-0.20.hdf5\n"
     ]
    },
    {
     "name": "stderr",
     "output_type": "stream",
     "text": [
      "/home/musk/anaconda3/envs/HARedit/lib/python3.6/site-packages/sklearn/metrics/_classification.py:1248: UndefinedMetricWarning: Precision is ill-defined and being set to 0.0 in labels with no predicted samples. Use `zero_division` parameter to control this behavior.\n",
      "  _warn_prf(average, modifier, msg_start, len(result))\n",
      "/home/musk/anaconda3/envs/HARedit/lib/python3.6/site-packages/sklearn/metrics/_classification.py:1248: UndefinedMetricWarning: Precision and F-score are ill-defined and being set to 0.0 in labels with no predicted samples. Use `zero_division` parameter to control this behavior.\n",
      "  _warn_prf(average, modifier, msg_start, len(result))\n",
      "/home/musk/anaconda3/envs/HARedit/lib/python3.6/site-packages/sklearn/metrics/_classification.py:1248: UndefinedMetricWarning: Precision and F-score are ill-defined and being set to 0.0 in labels with no predicted samples. Use `zero_division` parameter to control this behavior.\n",
      "  _warn_prf(average, modifier, msg_start, len(result))\n",
      "/home/musk/anaconda3/envs/HARedit/lib/python3.6/site-packages/sklearn/metrics/_classification.py:1248: UndefinedMetricWarning: Precision and F-score are ill-defined and being set to 0.0 in labels with no predicted samples. Use `zero_division` parameter to control this behavior.\n",
      "  _warn_prf(average, modifier, msg_start, len(result))\n"
     ]
    },
    {
     "name": "stdout",
     "output_type": "stream",
     "text": [
      "🔂 iter: 1/4\n",
      "✅ data_x_path: ../datasets/casas/ende/cairo/9999/npy/3/cairo-train-x-1.npy\n",
      "Train on 783 samples, validate on 391 samples\n",
      "Epoch 1/15\n",
      "783/783 [==============================] - 4s 5ms/step - loss: 1.5839 - acc: 0.4163 - val_loss: 1.0937 - val_acc: 0.6726\n",
      "Epoch 2/15\n",
      "783/783 [==============================] - 2s 2ms/step - loss: 1.0267 - acc: 0.6552 - val_loss: 1.0261 - val_acc: 0.6624\n",
      "Epoch 3/15\n",
      "783/783 [==============================] - 2s 2ms/step - loss: 0.9523 - acc: 0.6667 - val_loss: 1.7098 - val_acc: 0.6368\n",
      "\n",
      "Epoch 00003: saving model to ../datasets/casas/results/inception/casas/cairo/9999/1/_itr_1/saved-model-03-0.95-0.64.hdf5\n",
      "Epoch 4/15\n",
      "783/783 [==============================] - 2s 2ms/step - loss: 0.9280 - acc: 0.6705 - val_loss: 2.1607 - val_acc: 0.4143\n",
      "Epoch 5/15\n",
      "783/783 [==============================] - 2s 2ms/step - loss: 0.8933 - acc: 0.6756 - val_loss: 2.5343 - val_acc: 0.2890\n",
      "Epoch 6/15\n",
      "783/783 [==============================] - 2s 2ms/step - loss: 0.8657 - acc: 0.6705 - val_loss: 3.4058 - val_acc: 0.0691\n",
      "\n",
      "Epoch 00006: saving model to ../datasets/casas/results/inception/casas/cairo/9999/1/_itr_1/saved-model-06-0.87-0.07.hdf5\n",
      "Epoch 7/15\n",
      "783/783 [==============================] - 2s 2ms/step - loss: 0.8479 - acc: 0.6820 - val_loss: 2.1457 - val_acc: 0.2762\n",
      "Epoch 8/15\n",
      "783/783 [==============================] - 2s 2ms/step - loss: 0.8137 - acc: 0.6833 - val_loss: 1.4945 - val_acc: 0.2711\n",
      "Epoch 9/15\n",
      "783/783 [==============================] - 2s 2ms/step - loss: 0.8101 - acc: 0.6884 - val_loss: 4.9151 - val_acc: 0.0946\n",
      "\n",
      "Epoch 00009: saving model to ../datasets/casas/results/inception/casas/cairo/9999/1/_itr_1/saved-model-09-0.81-0.09.hdf5\n",
      "Epoch 10/15\n",
      "783/783 [==============================] - 2s 2ms/step - loss: 0.7942 - acc: 0.6948 - val_loss: 6.9962 - val_acc: 0.1407\n",
      "Epoch 11/15\n",
      "783/783 [==============================] - 2s 2ms/step - loss: 0.7790 - acc: 0.6935 - val_loss: 10.5080 - val_acc: 0.0588\n",
      "Epoch 12/15\n",
      "783/783 [==============================] - 2s 2ms/step - loss: 0.7472 - acc: 0.7024 - val_loss: 10.3081 - val_acc: 0.1330\n",
      "\n",
      "Epoch 00012: saving model to ../datasets/casas/results/inception/casas/cairo/9999/1/_itr_1/saved-model-12-0.75-0.13.hdf5\n",
      "Epoch 13/15\n",
      "783/783 [==============================] - 2s 2ms/step - loss: 0.7247 - acc: 0.7599 - val_loss: 7.2450 - val_acc: 0.1995\n",
      "Epoch 14/15\n",
      "783/783 [==============================] - 2s 2ms/step - loss: 0.7029 - acc: 0.7267 - val_loss: 11.6484 - val_acc: 0.1151\n",
      "Epoch 15/15\n",
      "783/783 [==============================] - 2s 2ms/step - loss: 0.6855 - acc: 0.7599 - val_loss: 3.7970 - val_acc: 0.2020\n",
      "\n",
      "Epoch 00015: saving model to ../datasets/casas/results/inception/casas/cairo/9999/1/_itr_1/saved-model-15-0.69-0.20.hdf5\n"
     ]
    },
    {
     "name": "stderr",
     "output_type": "stream",
     "text": [
      "/home/musk/anaconda3/envs/HARedit/lib/python3.6/site-packages/sklearn/metrics/_classification.py:1248: UndefinedMetricWarning: Precision is ill-defined and being set to 0.0 in labels with no predicted samples. Use `zero_division` parameter to control this behavior.\n",
      "  _warn_prf(average, modifier, msg_start, len(result))\n",
      "/home/musk/anaconda3/envs/HARedit/lib/python3.6/site-packages/sklearn/metrics/_classification.py:1248: UndefinedMetricWarning: Precision and F-score are ill-defined and being set to 0.0 in labels with no predicted samples. Use `zero_division` parameter to control this behavior.\n",
      "  _warn_prf(average, modifier, msg_start, len(result))\n",
      "/home/musk/anaconda3/envs/HARedit/lib/python3.6/site-packages/sklearn/metrics/_classification.py:1248: UndefinedMetricWarning: Precision and F-score are ill-defined and being set to 0.0 in labels with no predicted samples. Use `zero_division` parameter to control this behavior.\n",
      "  _warn_prf(average, modifier, msg_start, len(result))\n",
      "/home/musk/anaconda3/envs/HARedit/lib/python3.6/site-packages/sklearn/metrics/_classification.py:1248: UndefinedMetricWarning: Precision and F-score are ill-defined and being set to 0.0 in labels with no predicted samples. Use `zero_division` parameter to control this behavior.\n",
      "  _warn_prf(average, modifier, msg_start, len(result))\n"
     ]
    },
    {
     "name": "stdout",
     "output_type": "stream",
     "text": [
      "🔂 iter: 2/4\n",
      "✅ data_x_path: ../datasets/casas/ende/cairo/9999/npy/3/cairo-train-x-1.npy\n",
      "Train on 783 samples, validate on 391 samples\n",
      "Epoch 1/15\n",
      "783/783 [==============================] - 4s 5ms/step - loss: 1.4231 - acc: 0.4866 - val_loss: 1.0515 - val_acc: 0.6573\n",
      "Epoch 2/15\n",
      "783/783 [==============================] - 2s 2ms/step - loss: 1.0232 - acc: 0.6437 - val_loss: 0.9728 - val_acc: 0.6496\n",
      "Epoch 3/15\n",
      "783/783 [==============================] - 2s 2ms/step - loss: 0.9662 - acc: 0.6641 - val_loss: 1.1686 - val_acc: 0.5729\n",
      "\n",
      "Epoch 00003: saving model to ../datasets/casas/results/inception/casas/cairo/9999/1/_itr_2/saved-model-03-0.97-0.57.hdf5\n",
      "Epoch 4/15\n",
      "783/783 [==============================] - 2s 2ms/step - loss: 0.9184 - acc: 0.6743 - val_loss: 1.2646 - val_acc: 0.5882\n",
      "Epoch 5/15\n",
      "783/783 [==============================] - 2s 2ms/step - loss: 0.8815 - acc: 0.6833 - val_loss: 1.7261 - val_acc: 0.3120\n",
      "Epoch 6/15\n",
      "783/783 [==============================] - 2s 2ms/step - loss: 0.8598 - acc: 0.6858 - val_loss: 2.1624 - val_acc: 0.2123\n",
      "\n",
      "Epoch 00006: saving model to ../datasets/casas/results/inception/casas/cairo/9999/1/_itr_2/saved-model-06-0.86-0.21.hdf5\n",
      "Epoch 7/15\n",
      "783/783 [==============================] - 2s 2ms/step - loss: 0.8439 - acc: 0.6756 - val_loss: 2.6908 - val_acc: 0.1279\n",
      "Epoch 8/15\n",
      "783/783 [==============================] - 2s 2ms/step - loss: 0.8290 - acc: 0.6897 - val_loss: 2.8361 - val_acc: 0.2302\n",
      "Epoch 9/15\n",
      "783/783 [==============================] - 2s 2ms/step - loss: 0.7929 - acc: 0.7024 - val_loss: 3.4933 - val_acc: 0.1739\n",
      "\n",
      "Epoch 00009: saving model to ../datasets/casas/results/inception/casas/cairo/9999/1/_itr_2/saved-model-09-0.79-0.17.hdf5\n",
      "Epoch 10/15\n",
      "783/783 [==============================] - 2s 2ms/step - loss: 0.7896 - acc: 0.6845 - val_loss: 7.5493 - val_acc: 0.1279\n",
      "Epoch 11/15\n",
      "783/783 [==============================] - 2s 2ms/step - loss: 0.7767 - acc: 0.7050 - val_loss: 12.1725 - val_acc: 0.0486\n",
      "Epoch 12/15\n",
      "783/783 [==============================] - 2s 2ms/step - loss: 0.7388 - acc: 0.7152 - val_loss: 12.5112 - val_acc: 0.0997\n",
      "\n",
      "Epoch 00012: saving model to ../datasets/casas/results/inception/casas/cairo/9999/1/_itr_2/saved-model-12-0.74-0.10.hdf5\n",
      "Epoch 13/15\n",
      "783/783 [==============================] - 2s 2ms/step - loss: 0.7158 - acc: 0.7190 - val_loss: 11.4425 - val_acc: 0.1560\n",
      "Epoch 14/15\n",
      "783/783 [==============================] - 2s 2ms/step - loss: 0.7126 - acc: 0.7369 - val_loss: 10.2123 - val_acc: 0.0793\n",
      "Epoch 15/15\n",
      "783/783 [==============================] - 2s 2ms/step - loss: 0.6699 - acc: 0.7446 - val_loss: 12.3075 - val_acc: 0.1279\n",
      "\n",
      "Epoch 00015: saving model to ../datasets/casas/results/inception/casas/cairo/9999/1/_itr_2/saved-model-15-0.67-0.13.hdf5\n"
     ]
    },
    {
     "name": "stderr",
     "output_type": "stream",
     "text": [
      "/home/musk/anaconda3/envs/HARedit/lib/python3.6/site-packages/sklearn/metrics/_classification.py:1248: UndefinedMetricWarning: Precision is ill-defined and being set to 0.0 in labels with no predicted samples. Use `zero_division` parameter to control this behavior.\n",
      "  _warn_prf(average, modifier, msg_start, len(result))\n",
      "/home/musk/anaconda3/envs/HARedit/lib/python3.6/site-packages/sklearn/metrics/_classification.py:1248: UndefinedMetricWarning: Precision and F-score are ill-defined and being set to 0.0 in labels with no predicted samples. Use `zero_division` parameter to control this behavior.\n",
      "  _warn_prf(average, modifier, msg_start, len(result))\n",
      "/home/musk/anaconda3/envs/HARedit/lib/python3.6/site-packages/sklearn/metrics/_classification.py:1248: UndefinedMetricWarning: Precision and F-score are ill-defined and being set to 0.0 in labels with no predicted samples. Use `zero_division` parameter to control this behavior.\n",
      "  _warn_prf(average, modifier, msg_start, len(result))\n",
      "/home/musk/anaconda3/envs/HARedit/lib/python3.6/site-packages/sklearn/metrics/_classification.py:1248: UndefinedMetricWarning: Precision and F-score are ill-defined and being set to 0.0 in labels with no predicted samples. Use `zero_division` parameter to control this behavior.\n",
      "  _warn_prf(average, modifier, msg_start, len(result))\n"
     ]
    },
    {
     "name": "stdout",
     "output_type": "stream",
     "text": [
      "🔂 iter: 3/4\n",
      "✅ data_x_path: ../datasets/casas/ende/cairo/9999/npy/3/cairo-train-x-1.npy\n",
      "Train on 783 samples, validate on 391 samples\n",
      "Epoch 1/15\n",
      "783/783 [==============================] - 4s 6ms/step - loss: 1.1138 - acc: 0.6130 - val_loss: 0.9988 - val_acc: 0.6394\n",
      "Epoch 2/15\n",
      "783/783 [==============================] - 2s 2ms/step - loss: 0.9409 - acc: 0.6577 - val_loss: 1.7912 - val_acc: 0.6368\n",
      "Epoch 3/15\n",
      "783/783 [==============================] - 2s 2ms/step - loss: 0.9098 - acc: 0.6628 - val_loss: 1.5825 - val_acc: 0.6138\n",
      "\n",
      "Epoch 00003: saving model to ../datasets/casas/results/inception/casas/cairo/9999/1/_itr_3/saved-model-03-0.91-0.61.hdf5\n",
      "Epoch 4/15\n",
      "783/783 [==============================] - 2s 2ms/step - loss: 0.8815 - acc: 0.6679 - val_loss: 2.6181 - val_acc: 0.4373\n",
      "Epoch 5/15\n",
      "783/783 [==============================] - 2s 2ms/step - loss: 0.8767 - acc: 0.6769 - val_loss: 3.2835 - val_acc: 0.1458\n",
      "Epoch 6/15\n",
      "783/783 [==============================] - 2s 2ms/step - loss: 0.8376 - acc: 0.6718 - val_loss: 5.7631 - val_acc: 0.1458\n",
      "\n",
      "Epoch 00006: saving model to ../datasets/casas/results/inception/casas/cairo/9999/1/_itr_3/saved-model-06-0.84-0.15.hdf5\n",
      "Epoch 7/15\n",
      "783/783 [==============================] - 2s 2ms/step - loss: 0.8218 - acc: 0.6973 - val_loss: 8.4541 - val_acc: 0.1151\n",
      "Epoch 8/15\n",
      "783/783 [==============================] - 2s 2ms/step - loss: 0.8130 - acc: 0.6769 - val_loss: 9.2705 - val_acc: 0.1176\n",
      "Epoch 9/15\n",
      "576/783 [=====================>........] - ETA: 0s - loss: 0.7717 - acc: 0.6910"
     ]
    }
   ],
   "source": [
    "%%time\n",
    "dict_config_cus['distance_int'] = '9999'\n",
    "train_val(dict_config_cus)"
   ]
  },
  {
   "cell_type": "code",
   "execution_count": null,
   "metadata": {},
   "outputs": [],
   "source": []
  },
  {
   "cell_type": "code",
   "execution_count": null,
   "metadata": {},
   "outputs": [],
   "source": []
  },
  {
   "cell_type": "markdown",
   "metadata": {},
   "source": [
    "# <a id='constrain'>C</a>"
   ]
  },
  {
   "cell_type": "code",
   "execution_count": null,
   "metadata": {},
   "outputs": [],
   "source": [
    "%%time\n",
    "dict_config_cus['distance_int'] = '999'\n",
    "train_val(dict_config_cus)"
   ]
  },
  {
   "cell_type": "code",
   "execution_count": null,
   "metadata": {},
   "outputs": [],
   "source": []
  },
  {
   "cell_type": "code",
   "execution_count": null,
   "metadata": {},
   "outputs": [],
   "source": []
  },
  {
   "cell_type": "markdown",
   "metadata": {},
   "source": [
    "# <a id='constrain_1'>CS_1</a>"
   ]
  },
  {
   "cell_type": "code",
   "execution_count": null,
   "metadata": {},
   "outputs": [],
   "source": [
    "%%time\n",
    "dict_config_cus['distance_int'] = '1'\n",
    "train_val(dict_config_cus)"
   ]
  },
  {
   "cell_type": "code",
   "execution_count": null,
   "metadata": {},
   "outputs": [],
   "source": []
  },
  {
   "cell_type": "code",
   "execution_count": null,
   "metadata": {},
   "outputs": [],
   "source": []
  },
  {
   "cell_type": "markdown",
   "metadata": {},
   "source": [
    "# <a id='constrain_2'>CS_2</a>"
   ]
  },
  {
   "cell_type": "code",
   "execution_count": null,
   "metadata": {
    "tags": []
   },
   "outputs": [],
   "source": [
    "%%time\n",
    "dict_config_cus['distance_int'] = '2'\n",
    "train_val(dict_config_cus)"
   ]
  },
  {
   "cell_type": "code",
   "execution_count": null,
   "metadata": {},
   "outputs": [],
   "source": []
  },
  {
   "cell_type": "code",
   "execution_count": null,
   "metadata": {},
   "outputs": [],
   "source": []
  },
  {
   "cell_type": "markdown",
   "metadata": {},
   "source": [
    "# <a id='constrain_3'>CS_3</a>"
   ]
  },
  {
   "cell_type": "code",
   "execution_count": null,
   "metadata": {},
   "outputs": [],
   "source": [
    "%%time\n",
    "dict_config_cus['distance_int'] = '3'\n",
    "train_val(dict_config_cus)"
   ]
  },
  {
   "cell_type": "code",
   "execution_count": null,
   "metadata": {},
   "outputs": [],
   "source": []
  },
  {
   "cell_type": "code",
   "execution_count": null,
   "metadata": {},
   "outputs": [],
   "source": []
  },
  {
   "cell_type": "markdown",
   "metadata": {},
   "source": [
    "# <a id='constrain_4'>CS_4</a>"
   ]
  },
  {
   "cell_type": "code",
   "execution_count": null,
   "metadata": {},
   "outputs": [],
   "source": [
    "%%time\n",
    "dict_config_cus['distance_int'] = '4'\n",
    "train_val(dict_config_cus)"
   ]
  },
  {
   "cell_type": "code",
   "execution_count": null,
   "metadata": {},
   "outputs": [],
   "source": []
  },
  {
   "cell_type": "code",
   "execution_count": null,
   "metadata": {},
   "outputs": [],
   "source": []
  },
  {
   "cell_type": "markdown",
   "metadata": {},
   "source": [
    "# <a id='constrain_5'>CS_5</a>"
   ]
  },
  {
   "cell_type": "code",
   "execution_count": null,
   "metadata": {},
   "outputs": [],
   "source": [
    "%%time\n",
    "dict_config_cus['distance_int'] = '5'\n",
    "train_val(dict_config_cus)"
   ]
  },
  {
   "cell_type": "code",
   "execution_count": null,
   "metadata": {},
   "outputs": [],
   "source": []
  },
  {
   "cell_type": "code",
   "execution_count": null,
   "metadata": {},
   "outputs": [],
   "source": []
  }
 ],
 "metadata": {
  "kernelspec": {
   "display_name": "HARedit",
   "language": "python",
   "name": "haredit"
  },
  "language_info": {
   "codemirror_mode": {
    "name": "ipython",
    "version": 3
   },
   "file_extension": ".py",
   "mimetype": "text/x-python",
   "name": "python",
   "nbconvert_exporter": "python",
   "pygments_lexer": "ipython3",
   "version": "3.6.13"
  }
 },
 "nbformat": 4,
 "nbformat_minor": 4
}
