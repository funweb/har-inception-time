{
 "cells": [
  {
   "cell_type": "markdown",
   "metadata": {
    "tags": []
   },
   "source": [
    "# 文件名字含义\n",
    "\n",
    "21_cairo_inception_2000_64_15_1.ipynb\n",
    "\n",
    "`[标号]_[dataset_name]_[method_name]_[data_length]_[batch_size]_[epochs]_[calculate_unit]`"
   ]
  },
  {
   "cell_type": "code",
   "execution_count": 1,
   "metadata": {},
   "outputs": [
    {
     "name": "stderr",
     "output_type": "stream",
     "text": [
      "/home/musk/anaconda3/envs/HARedit/lib/python3.6/site-packages/tensorflow/python/framework/dtypes.py:523: FutureWarning: Passing (type, 1) or '1type' as a synonym of type is deprecated; in a future version of numpy, it will be understood as (type, (1,)) / '(1,)type'.\n",
      "  _np_qint8 = np.dtype([(\"qint8\", np.int8, 1)])\n",
      "/home/musk/anaconda3/envs/HARedit/lib/python3.6/site-packages/tensorflow/python/framework/dtypes.py:524: FutureWarning: Passing (type, 1) or '1type' as a synonym of type is deprecated; in a future version of numpy, it will be understood as (type, (1,)) / '(1,)type'.\n",
      "  _np_quint8 = np.dtype([(\"quint8\", np.uint8, 1)])\n",
      "/home/musk/anaconda3/envs/HARedit/lib/python3.6/site-packages/tensorflow/python/framework/dtypes.py:525: FutureWarning: Passing (type, 1) or '1type' as a synonym of type is deprecated; in a future version of numpy, it will be understood as (type, (1,)) / '(1,)type'.\n",
      "  _np_qint16 = np.dtype([(\"qint16\", np.int16, 1)])\n",
      "/home/musk/anaconda3/envs/HARedit/lib/python3.6/site-packages/tensorflow/python/framework/dtypes.py:526: FutureWarning: Passing (type, 1) or '1type' as a synonym of type is deprecated; in a future version of numpy, it will be understood as (type, (1,)) / '(1,)type'.\n",
      "  _np_quint16 = np.dtype([(\"quint16\", np.uint16, 1)])\n",
      "/home/musk/anaconda3/envs/HARedit/lib/python3.6/site-packages/tensorflow/python/framework/dtypes.py:527: FutureWarning: Passing (type, 1) or '1type' as a synonym of type is deprecated; in a future version of numpy, it will be understood as (type, (1,)) / '(1,)type'.\n",
      "  _np_qint32 = np.dtype([(\"qint32\", np.int32, 1)])\n",
      "/home/musk/anaconda3/envs/HARedit/lib/python3.6/site-packages/tensorflow/python/framework/dtypes.py:532: FutureWarning: Passing (type, 1) or '1type' as a synonym of type is deprecated; in a future version of numpy, it will be understood as (type, (1,)) / '(1,)type'.\n",
      "  np_resource = np.dtype([(\"resource\", np.ubyte, 1)])\n"
     ]
    }
   ],
   "source": [
    "from tools import general\n",
    "import os\n",
    "from tools.configure.constants import DATASETS_CONSTANT, INCEPTION_CONSTANT, METHOD_PARAMETER_TEMPLATE, JUPYTER_TOKEN\n",
    "from HAR_main import train_val\n",
    "\n",
    "\n",
    "nb_name_file = general.ipy_nb_name(JUPYTER_TOKEN[\"token_lists\"])"
   ]
  },
  {
   "cell_type": "code",
   "execution_count": null,
   "metadata": {},
   "outputs": [],
   "source": []
  },
  {
   "cell_type": "code",
   "execution_count": 2,
   "metadata": {},
   "outputs": [
    {
     "data": {
      "text/plain": [
       "{'num': '22',\n",
       " 'dataset': 'milan',\n",
       " 'model_name': 'inception',\n",
       " 'data_length': 2000,\n",
       " 'batch_size': 64,\n",
       " 'epochs': 15,\n",
       " 'calculation_unit': '2'}"
      ]
     },
     "metadata": {},
     "output_type": "display_data"
    }
   ],
   "source": [
    "theNotebook = nb_name_file.split('_')\n",
    "assert len(theNotebook) == 6 or len(theNotebook) == 7, 'The number of parameters should be 6 / 7'\n",
    "\n",
    "global title_param\n",
    "title_param = {\n",
    "    'num': theNotebook[0],\n",
    "    'dataset': theNotebook[1],\n",
    "    'model_name': theNotebook[2],\n",
    "    'data_length': int(theNotebook[3]),\n",
    "    'batch_size': int(theNotebook[4]),\n",
    "    'epochs': int(theNotebook[5]),\n",
    "    'calculation_unit': theNotebook[6] if len(theNotebook)==7 else '0',  # If not specified, the CPU is used to train the model\n",
    "}\n",
    "\n",
    "assert title_param['dataset'] in ['cairo', 'milan', 'kyoto7', 'kyoto8', 'kyoto11'], 'Please correct the dataset name！'\n",
    "assert title_param['model_name'] in ['WCNN','LSTM', 'inception'], 'The method is wrong. Please correct it！'\n",
    "assert title_param['data_length'] in [2000], 'The method is wrong. Please correct it！'\n",
    "assert title_param['batch_size'] in [64], 'The method is wrong. Please correct it！'\n",
    "assert title_param['epochs'] in [15, 30, 1500], 'The method is wrong. Please correct it！'\n",
    "assert title_param['calculation_unit'] in ['0', '1', '2'], 'Error in calculation unit selection, please correct！'\n",
    "\n",
    "display(title_param)"
   ]
  },
  {
   "cell_type": "code",
   "execution_count": null,
   "metadata": {},
   "outputs": [],
   "source": []
  },
  {
   "cell_type": "code",
   "execution_count": 3,
   "metadata": {},
   "outputs": [
    {
     "data": {
      "text/plain": [
       "{'datasets_dir': '../datasets/casas',\n",
       " 'archive_name': 'casas',\n",
       " 'ksplit': 3,\n",
       " 'dataset_name': 'milan',\n",
       " 'data_lenght': 2000,\n",
       " 'distance_int': None,\n",
       " 'nb_epochs': 15,\n",
       " 'batch_size': 64,\n",
       " 'reTrain': True,\n",
       " 'calculation_unit': '2',\n",
       " 'model_name': 'inception',\n",
       " 'nb_iter_': 5,\n",
       " 'nb_filters': 32,\n",
       " 'use_residual': True,\n",
       " 'use_bottleneck': True,\n",
       " 'depth': 6,\n",
       " 'kernel_size': 41,\n",
       " 'optimizer': 'adam'}"
      ]
     },
     "execution_count": 3,
     "metadata": {},
     "output_type": "execute_result"
    }
   ],
   "source": [
    "# 数据参数\n",
    "\n",
    "# 模型公共参数\n",
    "nb_epochs = title_param['epochs']\n",
    "batch_size = title_param['batch_size']\n",
    "\n",
    "calculation_unit = title_param['calculation_unit']\n",
    "\n",
    "# 模型私有参数\n",
    "model_parameter_dict = INCEPTION_CONSTANT\n",
    "\n",
    "dict_config_cus = {\n",
    "    \"datasets_dir\": DATASETS_CONSTANT[\"base_dir\"],  # 这是公共数据集常量\n",
    "    \"archive_name\": DATASETS_CONSTANT[\"archive_name\"],\n",
    "    \"ksplit\": DATASETS_CONSTANT[\"ksplit\"],\n",
    "    \"dataset_name\": title_param['dataset'],\n",
    "    \"data_lenght\": title_param['data_length'],\n",
    "    \"distance_int\": None,\n",
    "\n",
    "    \"nb_epochs\": nb_epochs,\n",
    "    \"batch_size\": batch_size,\n",
    "\n",
    "    \"reTrain\": True,\n",
    "    \"calculation_unit\": calculation_unit,\n",
    "}\n",
    "\n",
    "general.Merge(dict_config_cus, model_parameter_dict)\n"
   ]
  },
  {
   "cell_type": "code",
   "execution_count": null,
   "metadata": {},
   "outputs": [],
   "source": []
  },
  {
   "cell_type": "code",
   "execution_count": 4,
   "metadata": {},
   "outputs": [],
   "source": [
    "import tensorflow as tf\n",
    "\n",
    "\n",
    "if dict_config_cus['calculation_unit'] is '0':\n",
    "    os.environ[\"CUDA_VISIBLE_DEVICES\"] = \"-1\"\n",
    "else:\n",
    "    if dict_config_cus['calculation_unit'] is '1':\n",
    "        # 使用第0块GPU\n",
    "        os.environ[\"CUDA_VISIBLE_DEVICES\"] = \"0\"\n",
    "\n",
    "    else:\n",
    "        os.environ[\"CUDA_VISIBLE_DEVICES\"] = \"1\"\n",
    "\n",
    "    config = tf.ConfigProto()\n",
    "    config.gpu_options.allow_growth = True\n",
    "    session = tf.Session(config=config)\n",
    "os.environ['TF_CPP_MIN_LOG_LEVEL'] = '3'"
   ]
  },
  {
   "cell_type": "code",
   "execution_count": null,
   "metadata": {},
   "outputs": [],
   "source": []
  },
  {
   "cell_type": "markdown",
   "metadata": {},
   "source": [
    "[origin](#origin)\n",
    "\n",
    "[C](#constrain)\n",
    "\n",
    "[CS_1](#constrain_1)\n",
    "\n",
    "[CS_2](#constrain_2)\n",
    "\n",
    "[CS_3](#constrain_3)\n",
    "\n",
    "[CS_4](#constrain_4)\n",
    "\n",
    "[CS_5](#constrain_5)\n"
   ]
  },
  {
   "cell_type": "markdown",
   "metadata": {},
   "source": [
    "# <a id='origin'>origin</a>\n"
   ]
  },
  {
   "cell_type": "code",
   "execution_count": null,
   "metadata": {},
   "outputs": [
    {
     "name": "stdout",
     "output_type": "stream",
     "text": [
      "🔂 iter: 0/4\n",
      "✅ data_x_path: ../datasets/casas/ende/milan/9999/npy/3/milan-train-x-0.npy\n"
     ]
    },
    {
     "name": "stderr",
     "output_type": "stream",
     "text": [
      "Using TensorFlow backend.\n"
     ]
    },
    {
     "name": "stdout",
     "output_type": "stream",
     "text": [
      "Train on 2696 samples, validate on 1349 samples\n",
      "Epoch 1/15\n",
      "2696/2696 [==============================] - 8s 3ms/step - loss: 1.5925 - acc: 0.4692 - val_loss: 4.1920 - val_acc: 0.4618\n",
      "Epoch 2/15\n",
      "2696/2696 [==============================] - 5s 2ms/step - loss: 1.3356 - acc: 0.5393 - val_loss: 8.6792 - val_acc: 0.4611\n",
      "Epoch 3/15\n",
      "2696/2696 [==============================] - 5s 2ms/step - loss: 1.1934 - acc: 0.6001 - val_loss: 8.6734 - val_acc: 0.4603\n",
      "\n",
      "Epoch 00003: saving model to ../datasets/casas/results/inception/casas/milan/9999/0/_itr_0/saved-model-03-1.19-0.46.hdf5\n",
      "Epoch 4/15\n",
      "2696/2696 [==============================] - 5s 2ms/step - loss: 1.1218 - acc: 0.6283 - val_loss: 8.5989 - val_acc: 0.4603\n",
      "Epoch 5/15\n",
      "2696/2696 [==============================] - 5s 2ms/step - loss: 1.0193 - acc: 0.6784 - val_loss: 4.5418 - val_acc: 0.4307\n",
      "Epoch 6/15\n",
      "2696/2696 [==============================] - 5s 2ms/step - loss: 0.9561 - acc: 0.6936 - val_loss: 8.5778 - val_acc: 0.4611\n",
      "\n",
      "Epoch 00006: saving model to ../datasets/casas/results/inception/casas/milan/9999/0/_itr_0/saved-model-06-0.96-0.46.hdf5\n",
      "Epoch 7/15\n",
      "2696/2696 [==============================] - 5s 2ms/step - loss: 0.9182 - acc: 0.7022 - val_loss: 7.9389 - val_acc: 0.4611\n",
      "Epoch 8/15\n",
      "2696/2696 [==============================] - 5s 2ms/step - loss: 0.8599 - acc: 0.7240 - val_loss: 8.8018 - val_acc: 0.4514\n",
      "Epoch 9/15\n",
      "2696/2696 [==============================] - 5s 2ms/step - loss: 0.8033 - acc: 0.7315 - val_loss: 3.1171 - val_acc: 0.4529\n",
      "\n",
      "Epoch 00009: saving model to ../datasets/casas/results/inception/casas/milan/9999/0/_itr_0/saved-model-09-0.80-0.45.hdf5\n",
      "Epoch 10/15\n",
      "2696/2696 [==============================] - 5s 2ms/step - loss: 0.7648 - acc: 0.7500 - val_loss: 8.6745 - val_acc: 0.4611\n",
      "Epoch 11/15\n",
      "2696/2696 [==============================] - 5s 2ms/step - loss: 0.7379 - acc: 0.7589 - val_loss: 8.4190 - val_acc: 0.4574\n",
      "Epoch 12/15\n",
      "2696/2696 [==============================] - 5s 2ms/step - loss: 0.7578 - acc: 0.7467 - val_loss: 8.4711 - val_acc: 0.4611\n",
      "\n",
      "Epoch 00012: saving model to ../datasets/casas/results/inception/casas/milan/9999/0/_itr_0/saved-model-12-0.76-0.46.hdf5\n",
      "Epoch 13/15\n",
      "2696/2696 [==============================] - 5s 2ms/step - loss: 0.6801 - acc: 0.7804 - val_loss: 8.1905 - val_acc: 0.4685\n",
      "Epoch 14/15\n",
      "2696/2696 [==============================] - 5s 2ms/step - loss: 0.6773 - acc: 0.7763 - val_loss: 5.9491 - val_acc: 0.0986\n",
      "Epoch 15/15\n",
      "2696/2696 [==============================] - 5s 2ms/step - loss: 0.6312 - acc: 0.7934 - val_loss: 1.3298 - val_acc: 0.6130\n",
      "\n",
      "Epoch 00015: saving model to ../datasets/casas/results/inception/casas/milan/9999/0/_itr_0/saved-model-15-0.63-0.61.hdf5\n"
     ]
    },
    {
     "name": "stderr",
     "output_type": "stream",
     "text": [
      "/home/musk/anaconda3/envs/HARedit/lib/python3.6/site-packages/sklearn/metrics/_classification.py:1248: UndefinedMetricWarning: Precision is ill-defined and being set to 0.0 in labels with no predicted samples. Use `zero_division` parameter to control this behavior.\n",
      "  _warn_prf(average, modifier, msg_start, len(result))\n",
      "/home/musk/anaconda3/envs/HARedit/lib/python3.6/site-packages/sklearn/metrics/_classification.py:1248: UndefinedMetricWarning: Precision and F-score are ill-defined and being set to 0.0 in labels with no predicted samples. Use `zero_division` parameter to control this behavior.\n",
      "  _warn_prf(average, modifier, msg_start, len(result))\n",
      "/home/musk/anaconda3/envs/HARedit/lib/python3.6/site-packages/sklearn/metrics/_classification.py:1248: UndefinedMetricWarning: Precision and F-score are ill-defined and being set to 0.0 in labels with no predicted samples. Use `zero_division` parameter to control this behavior.\n",
      "  _warn_prf(average, modifier, msg_start, len(result))\n",
      "/home/musk/anaconda3/envs/HARedit/lib/python3.6/site-packages/sklearn/metrics/_classification.py:1248: UndefinedMetricWarning: Precision and F-score are ill-defined and being set to 0.0 in labels with no predicted samples. Use `zero_division` parameter to control this behavior.\n",
      "  _warn_prf(average, modifier, msg_start, len(result))\n"
     ]
    },
    {
     "name": "stdout",
     "output_type": "stream",
     "text": [
      "🔂 iter: 1/4\n",
      "✅ data_x_path: ../datasets/casas/ende/milan/9999/npy/3/milan-train-x-0.npy\n",
      "Train on 2696 samples, validate on 1349 samples\n",
      "Epoch 1/15\n",
      "2696/2696 [==============================] - 7s 3ms/step - loss: 1.6895 - acc: 0.4407 - val_loss: 1.7437 - val_acc: 0.4841\n",
      "Epoch 2/15\n",
      "2696/2696 [==============================] - 5s 2ms/step - loss: 1.3469 - acc: 0.5419 - val_loss: 2.3818 - val_acc: 0.4722\n",
      "Epoch 3/15\n",
      "2696/2696 [==============================] - 5s 2ms/step - loss: 1.2299 - acc: 0.6042 - val_loss: 6.7827 - val_acc: 0.4618\n",
      "\n",
      "Epoch 00003: saving model to ../datasets/casas/results/inception/casas/milan/9999/0/_itr_1/saved-model-03-1.23-0.46.hdf5\n",
      "Epoch 4/15\n",
      "2696/2696 [==============================] - 5s 2ms/step - loss: 1.1101 - acc: 0.6450 - val_loss: 8.6854 - val_acc: 0.4603\n",
      "Epoch 5/15\n",
      "2696/2696 [==============================] - 5s 2ms/step - loss: 1.0540 - acc: 0.6510 - val_loss: 6.4297 - val_acc: 0.4611\n",
      "Epoch 6/15\n",
      "2696/2696 [==============================] - 5s 2ms/step - loss: 0.9972 - acc: 0.6806 - val_loss: 8.2946 - val_acc: 0.4603\n",
      "\n",
      "Epoch 00006: saving model to ../datasets/casas/results/inception/casas/milan/9999/0/_itr_1/saved-model-06-1.00-0.46.hdf5\n",
      "Epoch 7/15\n",
      "2696/2696 [==============================] - 5s 2ms/step - loss: 0.9214 - acc: 0.7018 - val_loss: 8.6850 - val_acc: 0.4611\n",
      "Epoch 8/15\n",
      "2696/2696 [==============================] - 5s 2ms/step - loss: 0.9008 - acc: 0.7118 - val_loss: 7.0307 - val_acc: 0.4277\n",
      "Epoch 9/15\n",
      "2696/2696 [==============================] - 5s 2ms/step - loss: 0.8799 - acc: 0.7122 - val_loss: 8.3285 - val_acc: 0.4603\n",
      "\n",
      "Epoch 00009: saving model to ../datasets/casas/results/inception/casas/milan/9999/0/_itr_1/saved-model-09-0.88-0.46.hdf5\n",
      "Epoch 10/15\n",
      "2696/2696 [==============================] - 5s 2ms/step - loss: 0.8278 - acc: 0.7274 - val_loss: 7.5514 - val_acc: 0.0237\n",
      "Epoch 11/15\n",
      "2696/2696 [==============================] - 5s 2ms/step - loss: 0.7762 - acc: 0.7481 - val_loss: 8.6745 - val_acc: 0.4603\n",
      "Epoch 12/15\n",
      "2696/2696 [==============================] - 5s 2ms/step - loss: 0.7579 - acc: 0.7496 - val_loss: 15.2698 - val_acc: 0.0526\n",
      "\n",
      "Epoch 00012: saving model to ../datasets/casas/results/inception/casas/milan/9999/0/_itr_1/saved-model-12-0.76-0.05.hdf5\n",
      "Epoch 13/15\n",
      "2696/2696 [==============================] - 5s 2ms/step - loss: 0.7374 - acc: 0.7500 - val_loss: 6.1433 - val_acc: 0.1616\n",
      "Epoch 14/15\n",
      "2696/2696 [==============================] - 5s 2ms/step - loss: 0.6851 - acc: 0.7741 - val_loss: 14.2470 - val_acc: 0.1060\n",
      "Epoch 15/15\n",
      "2696/2696 [==============================] - 5s 2ms/step - loss: 0.6665 - acc: 0.7826 - val_loss: 13.9038 - val_acc: 0.1060\n",
      "\n",
      "Epoch 00015: saving model to ../datasets/casas/results/inception/casas/milan/9999/0/_itr_1/saved-model-15-0.67-0.11.hdf5\n"
     ]
    },
    {
     "name": "stderr",
     "output_type": "stream",
     "text": [
      "/home/musk/anaconda3/envs/HARedit/lib/python3.6/site-packages/sklearn/metrics/_classification.py:1248: UndefinedMetricWarning: Precision is ill-defined and being set to 0.0 in labels with no predicted samples. Use `zero_division` parameter to control this behavior.\n",
      "  _warn_prf(average, modifier, msg_start, len(result))\n",
      "/home/musk/anaconda3/envs/HARedit/lib/python3.6/site-packages/sklearn/metrics/_classification.py:1248: UndefinedMetricWarning: Precision and F-score are ill-defined and being set to 0.0 in labels with no predicted samples. Use `zero_division` parameter to control this behavior.\n",
      "  _warn_prf(average, modifier, msg_start, len(result))\n",
      "/home/musk/anaconda3/envs/HARedit/lib/python3.6/site-packages/sklearn/metrics/_classification.py:1248: UndefinedMetricWarning: Precision and F-score are ill-defined and being set to 0.0 in labels with no predicted samples. Use `zero_division` parameter to control this behavior.\n",
      "  _warn_prf(average, modifier, msg_start, len(result))\n",
      "/home/musk/anaconda3/envs/HARedit/lib/python3.6/site-packages/sklearn/metrics/_classification.py:1248: UndefinedMetricWarning: Precision and F-score are ill-defined and being set to 0.0 in labels with no predicted samples. Use `zero_division` parameter to control this behavior.\n",
      "  _warn_prf(average, modifier, msg_start, len(result))\n"
     ]
    },
    {
     "name": "stdout",
     "output_type": "stream",
     "text": [
      "🔂 iter: 2/4\n",
      "✅ data_x_path: ../datasets/casas/ende/milan/9999/npy/3/milan-train-x-0.npy\n",
      "Train on 2696 samples, validate on 1349 samples\n",
      "Epoch 1/15\n",
      "2696/2696 [==============================] - 7s 3ms/step - loss: 1.6251 - acc: 0.4555 - val_loss: 1.9887 - val_acc: 0.4729\n",
      "Epoch 2/15\n",
      "2696/2696 [==============================] - 5s 2ms/step - loss: 1.3245 - acc: 0.5345 - val_loss: 8.5666 - val_acc: 0.4611\n",
      "Epoch 3/15\n",
      "2696/2696 [==============================] - 5s 2ms/step - loss: 1.2309 - acc: 0.5916 - val_loss: 8.6790 - val_acc: 0.4611\n",
      "\n",
      "Epoch 00003: saving model to ../datasets/casas/results/inception/casas/milan/9999/0/_itr_2/saved-model-03-1.23-0.46.hdf5\n",
      "Epoch 4/15\n",
      "2696/2696 [==============================] - 5s 2ms/step - loss: 1.1184 - acc: 0.6376 - val_loss: 8.6052 - val_acc: 0.4611\n",
      "Epoch 5/15\n",
      "2696/2696 [==============================] - 5s 2ms/step - loss: 1.0522 - acc: 0.6614 - val_loss: 8.6744 - val_acc: 0.4618\n",
      "Epoch 6/15\n",
      "2696/2696 [==============================] - 5s 2ms/step - loss: 0.9845 - acc: 0.6814 - val_loss: 8.5926 - val_acc: 0.4618\n",
      "\n",
      "Epoch 00006: saving model to ../datasets/casas/results/inception/casas/milan/9999/0/_itr_2/saved-model-06-0.98-0.46.hdf5\n",
      "Epoch 7/15\n",
      " 384/2696 [===>..........................] - ETA: 3s - loss: 1.1170 - acc: 0.6354"
     ]
    }
   ],
   "source": [
    "%%time\n",
    "dict_config_cus['distance_int'] = '9999'\n",
    "train_val(dict_config_cus)"
   ]
  },
  {
   "cell_type": "code",
   "execution_count": null,
   "metadata": {},
   "outputs": [],
   "source": []
  },
  {
   "cell_type": "code",
   "execution_count": null,
   "metadata": {},
   "outputs": [],
   "source": []
  },
  {
   "cell_type": "markdown",
   "metadata": {},
   "source": [
    "# <a id='constrain'>C</a>"
   ]
  },
  {
   "cell_type": "code",
   "execution_count": null,
   "metadata": {},
   "outputs": [],
   "source": [
    "%%time\n",
    "dict_config_cus['distance_int'] = '999'\n",
    "train_val(dict_config_cus)"
   ]
  },
  {
   "cell_type": "code",
   "execution_count": null,
   "metadata": {},
   "outputs": [],
   "source": []
  },
  {
   "cell_type": "code",
   "execution_count": null,
   "metadata": {},
   "outputs": [],
   "source": []
  },
  {
   "cell_type": "markdown",
   "metadata": {},
   "source": [
    "# <a id='constrain_1'>CS_1</a>"
   ]
  },
  {
   "cell_type": "code",
   "execution_count": null,
   "metadata": {},
   "outputs": [],
   "source": [
    "%%time\n",
    "dict_config_cus['distance_int'] = '1'\n",
    "train_val(dict_config_cus)"
   ]
  },
  {
   "cell_type": "code",
   "execution_count": null,
   "metadata": {},
   "outputs": [],
   "source": []
  },
  {
   "cell_type": "code",
   "execution_count": null,
   "metadata": {},
   "outputs": [],
   "source": []
  },
  {
   "cell_type": "markdown",
   "metadata": {},
   "source": [
    "# <a id='constrain_2'>CS_2</a>"
   ]
  },
  {
   "cell_type": "code",
   "execution_count": null,
   "metadata": {
    "tags": []
   },
   "outputs": [],
   "source": [
    "%%time\n",
    "dict_config_cus['distance_int'] = '2'\n",
    "train_val(dict_config_cus)"
   ]
  },
  {
   "cell_type": "code",
   "execution_count": null,
   "metadata": {},
   "outputs": [],
   "source": []
  },
  {
   "cell_type": "code",
   "execution_count": null,
   "metadata": {},
   "outputs": [],
   "source": []
  },
  {
   "cell_type": "markdown",
   "metadata": {},
   "source": [
    "# <a id='constrain_3'>CS_3</a>"
   ]
  },
  {
   "cell_type": "code",
   "execution_count": null,
   "metadata": {},
   "outputs": [],
   "source": [
    "%%time\n",
    "dict_config_cus['distance_int'] = '3'\n",
    "train_val(dict_config_cus)"
   ]
  },
  {
   "cell_type": "code",
   "execution_count": null,
   "metadata": {},
   "outputs": [],
   "source": []
  },
  {
   "cell_type": "code",
   "execution_count": null,
   "metadata": {},
   "outputs": [],
   "source": []
  },
  {
   "cell_type": "markdown",
   "metadata": {},
   "source": [
    "# <a id='constrain_4'>CS_4</a>"
   ]
  },
  {
   "cell_type": "code",
   "execution_count": null,
   "metadata": {},
   "outputs": [],
   "source": [
    "%%time\n",
    "dict_config_cus['distance_int'] = '4'\n",
    "train_val(dict_config_cus)"
   ]
  },
  {
   "cell_type": "code",
   "execution_count": null,
   "metadata": {},
   "outputs": [],
   "source": []
  },
  {
   "cell_type": "code",
   "execution_count": null,
   "metadata": {},
   "outputs": [],
   "source": []
  },
  {
   "cell_type": "markdown",
   "metadata": {},
   "source": [
    "# <a id='constrain_5'>CS_5</a>"
   ]
  },
  {
   "cell_type": "code",
   "execution_count": null,
   "metadata": {},
   "outputs": [],
   "source": [
    "%%time\n",
    "dict_config_cus['distance_int'] = '5'\n",
    "train_val(dict_config_cus)"
   ]
  },
  {
   "cell_type": "code",
   "execution_count": null,
   "metadata": {},
   "outputs": [],
   "source": []
  },
  {
   "cell_type": "code",
   "execution_count": null,
   "metadata": {},
   "outputs": [],
   "source": []
  }
 ],
 "metadata": {
  "kernelspec": {
   "display_name": "HARedit",
   "language": "python",
   "name": "haredit"
  },
  "language_info": {
   "codemirror_mode": {
    "name": "ipython",
    "version": 3
   },
   "file_extension": ".py",
   "mimetype": "text/x-python",
   "name": "python",
   "nbconvert_exporter": "python",
   "pygments_lexer": "ipython3",
   "version": "3.6.13"
  }
 },
 "nbformat": 4,
 "nbformat_minor": 4
}
